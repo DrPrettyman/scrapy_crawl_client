{
 "cells": [
  {
   "cell_type": "code",
   "execution_count": 1,
   "outputs": [],
   "source": [
    "import subprocess\n",
    "import os\n",
    "import uuid\n",
    "from typing import List"
   ],
   "metadata": {
    "collapsed": false,
    "pycharm": {
     "name": "#%%\n"
    }
   }
  },
  {
   "cell_type": "code",
   "execution_count": 2,
   "outputs": [],
   "source": [
    "from scrapy_crawl_client.client import Client"
   ],
   "metadata": {
    "collapsed": false,
    "pycharm": {
     "name": "#%%\n"
    }
   }
  },
  {
   "cell_type": "code",
   "execution_count": 3,
   "outputs": [],
   "source": [
    "c = Client(cache_path='/Users/joshua/Python_blink/penguin_testing/scraping_cache')"
   ],
   "metadata": {
    "collapsed": false,
    "pycharm": {
     "name": "#%%\n"
    }
   }
  },
  {
   "cell_type": "code",
   "execution_count": 4,
   "outputs": [],
   "source": [
    "p = c.spider_process(url='https://www.pickapocket.co.uk', name='pickapocket')"
   ],
   "metadata": {
    "collapsed": false,
    "pycharm": {
     "name": "#%%\n"
    }
   }
  },
  {
   "cell_type": "code",
   "execution_count": 5,
   "outputs": [
    {
     "name": "stdout",
     "output_type": "stream",
     "text": [
      "running command python3 /Users/joshua/Python_blink/scrapy_crawl_client/scrapy_crawl_client/crawlproc.py --cache_path '/Users/joshua/Python_blink/penguin_testing/scraping_cache/de014c4421d037afb8810799f4a358b4_20230214-200917-481928'\n"
     ]
    },
    {
     "data": {
      "text/plain": "CompletedProcess(args=\"python3 /Users/joshua/Python_blink/scrapy_crawl_client/scrapy_crawl_client/crawlproc.py --cache_path '/Users/joshua/Python_blink/penguin_testing/scraping_cache/de014c4421d037afb8810799f4a358b4_20230214-200917-481928'\", returncode=1)"
     },
     "execution_count": 5,
     "metadata": {},
     "output_type": "execute_result"
    }
   ],
   "source": [
    "p.run()"
   ],
   "metadata": {
    "collapsed": false,
    "pycharm": {
     "name": "#%%\n"
    }
   }
  },
  {
   "cell_type": "code",
   "execution_count": 4,
   "outputs": [],
   "source": [
    "sp = c.spider_process(url='https://www.organicsnature.co', name='organics')"
   ],
   "metadata": {
    "collapsed": false,
    "pycharm": {
     "name": "#%%\n"
    }
   }
  },
  {
   "cell_type": "code",
   "execution_count": 5,
   "outputs": [
    {
     "data": {
      "text/plain": "{\n    \"timestamp\": \"2023-02-14 15:50:35.568019\",\n    \"cache_path\": \"/Users/joshua/Python_blink/penguin_testing/scraping_cache/dc2d5f0b566833c2b7bd8c14ddea64fe_20230214-155035-568019\",\n    \"name\": \"organics\",\n    \"domain\": \"organicsnature.co\",\n    \"start_urls\": [\n        \"https://www.organicsnature.co\"\n    ],\n    \"uuid_namespace\": \"dc2d5f0b566833c2b7bd8c14ddea64fe\",\n    \"allowed_domains\": [\n        \"organicsnature.co\"\n    ],\n    \"crawl_limit\": null,\n    \"process_settings\": {\n        \"FEEDS\": {\n            \"items.json\": {\n                \"format\": \"json\"\n            }\n        },\n        \"HTTPCACHE_ENABLED\": true,\n        \"ROBOTSTXT_OBEY\": false,\n        \"REQUEST_FINGERPRINTER_IMPLEMENTATION\": \"2.7\",\n        \"DEFAULT_REQUEST_HEADERS\": {\n            \"User-Agent\": \"Mozilla/5.0 (Windows NT 10.0; Win64; x64) AppleWebKit/537.36 (KHTML, like Gecko) Chrome/96.0.4664.110 Safari/537.36\",\n            \"Accept\": \"text/html,application/xhtml+xml,application/xml;q=0.9,image/webp,image/apng,*/*;q=0.8\",\n            \"Accept-Language\": \"en\"\n        }\n    }\n}"
     },
     "execution_count": 5,
     "metadata": {},
     "output_type": "execute_result"
    }
   ],
   "source": [
    "sp"
   ],
   "metadata": {
    "collapsed": false,
    "pycharm": {
     "name": "#%%\n"
    }
   }
  },
  {
   "cell_type": "code",
   "execution_count": 6,
   "outputs": [
    {
     "name": "stdout",
     "output_type": "stream",
     "text": [
      "running command python3 /Users/joshua/Python_blink/penguin_testing/scrapy_tests/macaroni_spider/crawlproc.py --cache_path '/Users/joshua/Python_blink/penguin_testing/scraping_cache/dc2d5f0b566833c2b7bd8c14ddea64fe_20230214-155035-568019'\n"
     ]
    },
    {
     "data": {
      "text/plain": "CompletedProcess(args=\"python3 /Users/joshua/Python_blink/penguin_testing/scrapy_tests/macaroni_spider/crawlproc.py --cache_path '/Users/joshua/Python_blink/penguin_testing/scraping_cache/dc2d5f0b566833c2b7bd8c14ddea64fe_20230214-155035-568019'\", returncode=0)"
     },
     "execution_count": 6,
     "metadata": {},
     "output_type": "execute_result"
    }
   ],
   "source": [
    "sp.run()"
   ],
   "metadata": {
    "collapsed": false,
    "pycharm": {
     "name": "#%%\n"
    }
   }
  },
  {
   "cell_type": "code",
   "execution_count": null,
   "outputs": [],
   "source": [],
   "metadata": {
    "collapsed": false,
    "pycharm": {
     "name": "#%%\n"
    }
   }
  }
 ],
 "metadata": {
  "kernelspec": {
   "display_name": "Python 3",
   "language": "python",
   "name": "python3"
  },
  "language_info": {
   "codemirror_mode": {
    "name": "ipython",
    "version": 2
   },
   "file_extension": ".py",
   "mimetype": "text/x-python",
   "name": "python",
   "nbconvert_exporter": "python",
   "pygments_lexer": "ipython2",
   "version": "2.7.6"
  }
 },
 "nbformat": 4,
 "nbformat_minor": 0
}